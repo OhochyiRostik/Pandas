{
 "cells": [
  {
   "cell_type": "markdown",
   "metadata": {},
   "source": [
    "# ОНПД. Лабораторна робота №4"
   ]
  },
  {
   "cell_type": "code",
   "execution_count": 105,
   "metadata": {},
   "outputs": [],
   "source": [
    "import numpy as np \n",
    "import pandas as pd \n",
    "import matplotlib.pyplot as plt"
   ]
  },
  {
   "cell_type": "code",
   "execution_count": 106,
   "metadata": {},
   "outputs": [],
   "source": [
    "old_data = pd.read_csv(\"weather_features.csv\")"
   ]
  },
  {
   "cell_type": "code",
   "execution_count": 107,
   "metadata": {},
   "outputs": [],
   "source": [
    "a = old_data.loc[:140000]\n",
    "a.to_csv(\"trn_data.csv\")\n",
    "\n",
    "b = old_data.loc[140000:]\n",
    "b.to_csv(\"tst_data.csv\")"
   ]
  },
  {
   "cell_type": "code",
   "execution_count": 108,
   "metadata": {},
   "outputs": [],
   "source": [
    "mydata = pd.read_csv(\"trn_data.csv\")"
   ]
  },
  {
   "cell_type": "code",
   "execution_count": 109,
   "metadata": {},
   "outputs": [
    {
     "data": {
      "text/html": [
       "<div>\n",
       "<style scoped>\n",
       "    .dataframe tbody tr th:only-of-type {\n",
       "        vertical-align: middle;\n",
       "    }\n",
       "\n",
       "    .dataframe tbody tr th {\n",
       "        vertical-align: top;\n",
       "    }\n",
       "\n",
       "    .dataframe thead th {\n",
       "        text-align: right;\n",
       "    }\n",
       "</style>\n",
       "<table border=\"1\" class=\"dataframe\">\n",
       "  <thead>\n",
       "    <tr style=\"text-align: right;\">\n",
       "      <th></th>\n",
       "      <th>Unnamed: 0</th>\n",
       "      <th>dt_iso</th>\n",
       "      <th>city_name</th>\n",
       "      <th>temp</th>\n",
       "      <th>temp_min</th>\n",
       "      <th>temp_max</th>\n",
       "      <th>pressure</th>\n",
       "      <th>humidity</th>\n",
       "      <th>wind_speed</th>\n",
       "      <th>wind_deg</th>\n",
       "      <th>rain_1h</th>\n",
       "      <th>rain_3h</th>\n",
       "      <th>snow_3h</th>\n",
       "      <th>clouds_all</th>\n",
       "      <th>weather_id</th>\n",
       "      <th>weather_main</th>\n",
       "      <th>weather_description</th>\n",
       "      <th>weather_icon</th>\n",
       "    </tr>\n",
       "  </thead>\n",
       "  <tbody>\n",
       "    <tr>\n",
       "      <th>0</th>\n",
       "      <td>0</td>\n",
       "      <td>2015-01-01 00:00:00+01:00</td>\n",
       "      <td>Valencia</td>\n",
       "      <td>270.475</td>\n",
       "      <td>270.475</td>\n",
       "      <td>270.475</td>\n",
       "      <td>1001</td>\n",
       "      <td>77</td>\n",
       "      <td>1</td>\n",
       "      <td>62</td>\n",
       "      <td>0.0</td>\n",
       "      <td>0.0</td>\n",
       "      <td>0.0</td>\n",
       "      <td>0</td>\n",
       "      <td>800</td>\n",
       "      <td>clear</td>\n",
       "      <td>sky is clear</td>\n",
       "      <td>01n</td>\n",
       "    </tr>\n",
       "    <tr>\n",
       "      <th>1</th>\n",
       "      <td>1</td>\n",
       "      <td>2015-01-01 01:00:00+01:00</td>\n",
       "      <td>Valencia</td>\n",
       "      <td>270.475</td>\n",
       "      <td>270.475</td>\n",
       "      <td>270.475</td>\n",
       "      <td>1001</td>\n",
       "      <td>77</td>\n",
       "      <td>1</td>\n",
       "      <td>62</td>\n",
       "      <td>0.0</td>\n",
       "      <td>0.0</td>\n",
       "      <td>0.0</td>\n",
       "      <td>0</td>\n",
       "      <td>800</td>\n",
       "      <td>clear</td>\n",
       "      <td>sky is clear</td>\n",
       "      <td>01n</td>\n",
       "    </tr>\n",
       "    <tr>\n",
       "      <th>2</th>\n",
       "      <td>2</td>\n",
       "      <td>2015-01-01 02:00:00+01:00</td>\n",
       "      <td>Valencia</td>\n",
       "      <td>269.686</td>\n",
       "      <td>269.686</td>\n",
       "      <td>269.686</td>\n",
       "      <td>1002</td>\n",
       "      <td>78</td>\n",
       "      <td>0</td>\n",
       "      <td>23</td>\n",
       "      <td>0.0</td>\n",
       "      <td>0.0</td>\n",
       "      <td>0.0</td>\n",
       "      <td>0</td>\n",
       "      <td>800</td>\n",
       "      <td>clear</td>\n",
       "      <td>sky is clear</td>\n",
       "      <td>01n</td>\n",
       "    </tr>\n",
       "    <tr>\n",
       "      <th>3</th>\n",
       "      <td>3</td>\n",
       "      <td>2015-01-01 03:00:00+01:00</td>\n",
       "      <td>Valencia</td>\n",
       "      <td>269.686</td>\n",
       "      <td>269.686</td>\n",
       "      <td>269.686</td>\n",
       "      <td>1002</td>\n",
       "      <td>78</td>\n",
       "      <td>0</td>\n",
       "      <td>23</td>\n",
       "      <td>0.0</td>\n",
       "      <td>0.0</td>\n",
       "      <td>0.0</td>\n",
       "      <td>0</td>\n",
       "      <td>800</td>\n",
       "      <td>clear</td>\n",
       "      <td>sky is clear</td>\n",
       "      <td>01n</td>\n",
       "    </tr>\n",
       "    <tr>\n",
       "      <th>4</th>\n",
       "      <td>4</td>\n",
       "      <td>2015-01-01 04:00:00+01:00</td>\n",
       "      <td>Valencia</td>\n",
       "      <td>269.686</td>\n",
       "      <td>269.686</td>\n",
       "      <td>269.686</td>\n",
       "      <td>1002</td>\n",
       "      <td>78</td>\n",
       "      <td>0</td>\n",
       "      <td>23</td>\n",
       "      <td>0.0</td>\n",
       "      <td>0.0</td>\n",
       "      <td>0.0</td>\n",
       "      <td>0</td>\n",
       "      <td>800</td>\n",
       "      <td>clear</td>\n",
       "      <td>sky is clear</td>\n",
       "      <td>01n</td>\n",
       "    </tr>\n",
       "  </tbody>\n",
       "</table>\n",
       "</div>"
      ],
      "text/plain": [
       "   Unnamed: 0                     dt_iso city_name     temp  temp_min  \\\n",
       "0           0  2015-01-01 00:00:00+01:00  Valencia  270.475   270.475   \n",
       "1           1  2015-01-01 01:00:00+01:00  Valencia  270.475   270.475   \n",
       "2           2  2015-01-01 02:00:00+01:00  Valencia  269.686   269.686   \n",
       "3           3  2015-01-01 03:00:00+01:00  Valencia  269.686   269.686   \n",
       "4           4  2015-01-01 04:00:00+01:00  Valencia  269.686   269.686   \n",
       "\n",
       "   temp_max  pressure  humidity  wind_speed  wind_deg  rain_1h  rain_3h  \\\n",
       "0   270.475      1001        77           1        62      0.0      0.0   \n",
       "1   270.475      1001        77           1        62      0.0      0.0   \n",
       "2   269.686      1002        78           0        23      0.0      0.0   \n",
       "3   269.686      1002        78           0        23      0.0      0.0   \n",
       "4   269.686      1002        78           0        23      0.0      0.0   \n",
       "\n",
       "   snow_3h  clouds_all  weather_id weather_main weather_description  \\\n",
       "0      0.0           0         800        clear        sky is clear   \n",
       "1      0.0           0         800        clear        sky is clear   \n",
       "2      0.0           0         800        clear        sky is clear   \n",
       "3      0.0           0         800        clear        sky is clear   \n",
       "4      0.0           0         800        clear        sky is clear   \n",
       "\n",
       "  weather_icon  \n",
       "0          01n  \n",
       "1          01n  \n",
       "2          01n  \n",
       "3          01n  \n",
       "4          01n  "
      ]
     },
     "execution_count": 109,
     "metadata": {},
     "output_type": "execute_result"
    }
   ],
   "source": [
    "#перші 5 рядків\n",
    "mydata.head()"
   ]
  },
  {
   "cell_type": "code",
   "execution_count": 110,
   "metadata": {},
   "outputs": [
    {
     "data": {
      "text/html": [
       "<div>\n",
       "<style scoped>\n",
       "    .dataframe tbody tr th:only-of-type {\n",
       "        vertical-align: middle;\n",
       "    }\n",
       "\n",
       "    .dataframe tbody tr th {\n",
       "        vertical-align: top;\n",
       "    }\n",
       "\n",
       "    .dataframe thead th {\n",
       "        text-align: right;\n",
       "    }\n",
       "</style>\n",
       "<table border=\"1\" class=\"dataframe\">\n",
       "  <thead>\n",
       "    <tr style=\"text-align: right;\">\n",
       "      <th></th>\n",
       "      <th>Unnamed: 0</th>\n",
       "      <th>dt_iso</th>\n",
       "      <th>city_name</th>\n",
       "      <th>temp</th>\n",
       "      <th>temp_min</th>\n",
       "      <th>temp_max</th>\n",
       "      <th>pressure</th>\n",
       "      <th>humidity</th>\n",
       "      <th>wind_speed</th>\n",
       "      <th>wind_deg</th>\n",
       "      <th>rain_1h</th>\n",
       "      <th>rain_3h</th>\n",
       "      <th>snow_3h</th>\n",
       "      <th>clouds_all</th>\n",
       "      <th>weather_id</th>\n",
       "      <th>weather_main</th>\n",
       "      <th>weather_description</th>\n",
       "      <th>weather_icon</th>\n",
       "    </tr>\n",
       "  </thead>\n",
       "  <tbody>\n",
       "    <tr>\n",
       "      <th>139996</th>\n",
       "      <td>139996</td>\n",
       "      <td>2018-09-07 13:00:00+02:00</td>\n",
       "      <td>Barcelona</td>\n",
       "      <td>298.65</td>\n",
       "      <td>298.15</td>\n",
       "      <td>299.15</td>\n",
       "      <td>1017</td>\n",
       "      <td>61</td>\n",
       "      <td>3</td>\n",
       "      <td>170</td>\n",
       "      <td>0.0</td>\n",
       "      <td>0.0</td>\n",
       "      <td>0.0</td>\n",
       "      <td>75</td>\n",
       "      <td>803</td>\n",
       "      <td>clouds</td>\n",
       "      <td>broken clouds</td>\n",
       "      <td>04d</td>\n",
       "    </tr>\n",
       "    <tr>\n",
       "      <th>139997</th>\n",
       "      <td>139997</td>\n",
       "      <td>2018-09-07 14:00:00+02:00</td>\n",
       "      <td>Barcelona</td>\n",
       "      <td>299.65</td>\n",
       "      <td>299.15</td>\n",
       "      <td>300.15</td>\n",
       "      <td>1016</td>\n",
       "      <td>57</td>\n",
       "      <td>3</td>\n",
       "      <td>180</td>\n",
       "      <td>0.0</td>\n",
       "      <td>0.0</td>\n",
       "      <td>0.0</td>\n",
       "      <td>40</td>\n",
       "      <td>802</td>\n",
       "      <td>clouds</td>\n",
       "      <td>scattered clouds</td>\n",
       "      <td>03d</td>\n",
       "    </tr>\n",
       "    <tr>\n",
       "      <th>139998</th>\n",
       "      <td>139998</td>\n",
       "      <td>2018-09-07 15:00:00+02:00</td>\n",
       "      <td>Barcelona</td>\n",
       "      <td>299.65</td>\n",
       "      <td>298.15</td>\n",
       "      <td>301.15</td>\n",
       "      <td>1016</td>\n",
       "      <td>54</td>\n",
       "      <td>4</td>\n",
       "      <td>180</td>\n",
       "      <td>0.0</td>\n",
       "      <td>0.0</td>\n",
       "      <td>0.0</td>\n",
       "      <td>20</td>\n",
       "      <td>801</td>\n",
       "      <td>clouds</td>\n",
       "      <td>few clouds</td>\n",
       "      <td>02d</td>\n",
       "    </tr>\n",
       "    <tr>\n",
       "      <th>139999</th>\n",
       "      <td>139999</td>\n",
       "      <td>2018-09-07 16:00:00+02:00</td>\n",
       "      <td>Barcelona</td>\n",
       "      <td>299.65</td>\n",
       "      <td>299.15</td>\n",
       "      <td>300.15</td>\n",
       "      <td>1016</td>\n",
       "      <td>57</td>\n",
       "      <td>4</td>\n",
       "      <td>170</td>\n",
       "      <td>0.0</td>\n",
       "      <td>0.0</td>\n",
       "      <td>0.0</td>\n",
       "      <td>20</td>\n",
       "      <td>801</td>\n",
       "      <td>clouds</td>\n",
       "      <td>few clouds</td>\n",
       "      <td>02d</td>\n",
       "    </tr>\n",
       "    <tr>\n",
       "      <th>140000</th>\n",
       "      <td>140000</td>\n",
       "      <td>2018-09-07 17:00:00+02:00</td>\n",
       "      <td>Barcelona</td>\n",
       "      <td>299.65</td>\n",
       "      <td>299.15</td>\n",
       "      <td>300.15</td>\n",
       "      <td>1016</td>\n",
       "      <td>57</td>\n",
       "      <td>5</td>\n",
       "      <td>180</td>\n",
       "      <td>0.0</td>\n",
       "      <td>0.0</td>\n",
       "      <td>0.0</td>\n",
       "      <td>20</td>\n",
       "      <td>801</td>\n",
       "      <td>clouds</td>\n",
       "      <td>few clouds</td>\n",
       "      <td>02d</td>\n",
       "    </tr>\n",
       "  </tbody>\n",
       "</table>\n",
       "</div>"
      ],
      "text/plain": [
       "        Unnamed: 0                     dt_iso   city_name    temp  temp_min  \\\n",
       "139996      139996  2018-09-07 13:00:00+02:00   Barcelona  298.65    298.15   \n",
       "139997      139997  2018-09-07 14:00:00+02:00   Barcelona  299.65    299.15   \n",
       "139998      139998  2018-09-07 15:00:00+02:00   Barcelona  299.65    298.15   \n",
       "139999      139999  2018-09-07 16:00:00+02:00   Barcelona  299.65    299.15   \n",
       "140000      140000  2018-09-07 17:00:00+02:00   Barcelona  299.65    299.15   \n",
       "\n",
       "        temp_max  pressure  humidity  wind_speed  wind_deg  rain_1h  rain_3h  \\\n",
       "139996    299.15      1017        61           3       170      0.0      0.0   \n",
       "139997    300.15      1016        57           3       180      0.0      0.0   \n",
       "139998    301.15      1016        54           4       180      0.0      0.0   \n",
       "139999    300.15      1016        57           4       170      0.0      0.0   \n",
       "140000    300.15      1016        57           5       180      0.0      0.0   \n",
       "\n",
       "        snow_3h  clouds_all  weather_id weather_main weather_description  \\\n",
       "139996      0.0          75         803       clouds       broken clouds   \n",
       "139997      0.0          40         802       clouds    scattered clouds   \n",
       "139998      0.0          20         801       clouds          few clouds   \n",
       "139999      0.0          20         801       clouds          few clouds   \n",
       "140000      0.0          20         801       clouds          few clouds   \n",
       "\n",
       "       weather_icon  \n",
       "139996          04d  \n",
       "139997          03d  \n",
       "139998          02d  \n",
       "139999          02d  \n",
       "140000          02d  "
      ]
     },
     "execution_count": 110,
     "metadata": {},
     "output_type": "execute_result"
    }
   ],
   "source": [
    "#останні 5 рядків\n",
    "mydata.tail()"
   ]
  },
  {
   "cell_type": "code",
   "execution_count": 111,
   "metadata": {},
   "outputs": [
    {
     "data": {
      "text/plain": [
       "(140001, 18)"
      ]
     },
     "execution_count": 111,
     "metadata": {},
     "output_type": "execute_result"
    }
   ],
   "source": [
    "#Розмірність набору\n",
    "mydata.shape"
   ]
  },
  {
   "cell_type": "code",
   "execution_count": 112,
   "metadata": {},
   "outputs": [
    {
     "name": "stdout",
     "output_type": "stream",
     "text": [
      "<class 'pandas.core.frame.DataFrame'>\n",
      "RangeIndex: 140001 entries, 0 to 140000\n",
      "Data columns (total 18 columns):\n",
      " #   Column               Non-Null Count   Dtype  \n",
      "---  ------               --------------   -----  \n",
      " 0   Unnamed: 0           140001 non-null  int64  \n",
      " 1   dt_iso               140001 non-null  object \n",
      " 2   city_name            140001 non-null  object \n",
      " 3   temp                 140001 non-null  float64\n",
      " 4   temp_min             140001 non-null  float64\n",
      " 5   temp_max             140001 non-null  float64\n",
      " 6   pressure             140001 non-null  int64  \n",
      " 7   humidity             140001 non-null  int64  \n",
      " 8   wind_speed           140001 non-null  int64  \n",
      " 9   wind_deg             140001 non-null  int64  \n",
      " 10  rain_1h              140001 non-null  float64\n",
      " 11  rain_3h              140001 non-null  float64\n",
      " 12  snow_3h              140001 non-null  float64\n",
      " 13  clouds_all           140001 non-null  int64  \n",
      " 14  weather_id           140001 non-null  int64  \n",
      " 15  weather_main         140001 non-null  object \n",
      " 16  weather_description  140001 non-null  object \n",
      " 17  weather_icon         140001 non-null  object \n",
      "dtypes: float64(6), int64(7), object(5)\n",
      "memory usage: 19.2+ MB\n"
     ]
    }
   ],
   "source": [
    "# первірка повноти набору\n",
    "mydata.info()"
   ]
  },
  {
   "cell_type": "code",
   "execution_count": 113,
   "metadata": {},
   "outputs": [],
   "source": [
    "# видалення рядків з нульовим наченням\n",
    "mydata.dropna(inplace=True)"
   ]
  },
  {
   "cell_type": "code",
   "execution_count": 114,
   "metadata": {},
   "outputs": [
    {
     "name": "stdout",
     "output_type": "stream",
     "text": [
      "<class 'pandas.core.frame.DataFrame'>\n",
      "Int64Index: 140001 entries, 0 to 140000\n",
      "Data columns (total 18 columns):\n",
      " #   Column               Non-Null Count   Dtype  \n",
      "---  ------               --------------   -----  \n",
      " 0   Unnamed: 0           140001 non-null  int64  \n",
      " 1   dt_iso               140001 non-null  object \n",
      " 2   city_name            140001 non-null  object \n",
      " 3   temp                 140001 non-null  float64\n",
      " 4   temp_min             140001 non-null  float64\n",
      " 5   temp_max             140001 non-null  float64\n",
      " 6   pressure             140001 non-null  int64  \n",
      " 7   humidity             140001 non-null  int64  \n",
      " 8   wind_speed           140001 non-null  int64  \n",
      " 9   wind_deg             140001 non-null  int64  \n",
      " 10  rain_1h              140001 non-null  float64\n",
      " 11  rain_3h              140001 non-null  float64\n",
      " 12  snow_3h              140001 non-null  float64\n",
      " 13  clouds_all           140001 non-null  int64  \n",
      " 14  weather_id           140001 non-null  int64  \n",
      " 15  weather_main         140001 non-null  object \n",
      " 16  weather_description  140001 non-null  object \n",
      " 17  weather_icon         140001 non-null  object \n",
      "dtypes: float64(6), int64(7), object(5)\n",
      "memory usage: 20.3+ MB\n"
     ]
    }
   ],
   "source": [
    "# друга первірка повноти набору\n",
    "mydata.info()"
   ]
  },
  {
   "cell_type": "code",
   "execution_count": 115,
   "metadata": {},
   "outputs": [
    {
     "data": {
      "text/plain": [
       "<matplotlib.collections.PathCollection at 0x1be8b54c4a8>"
      ]
     },
     "execution_count": 115,
     "metadata": {},
     "output_type": "execute_result"
    },
    {
     "data": {
      "image/png": "[encoded data removed]",
      "text/plain": [
       "<Figure size 432x288 with 1 Axes>"
      ]
     },
     "metadata": {
      "needs_background": "light"
     },
     "output_type": "display_data"
    }
   ],
   "source": [
    "# графік тренувального набору даних\n",
    "plt.scatter(mydata[\"temp_min\"],mydata[\"temp_max\"],s=10)"
   ]
  },
  {
   "cell_type": "code",
   "execution_count": 116,
   "metadata": {},
   "outputs": [],
   "source": [
    "# переформатування даних набору\n",
    "X = mydata[\"temp_min\"].values.reshape(-1,1)\n",
    "Y = mydata[\"temp_max\"].values.reshape(-1,1)"
   ]
  },
  {
   "cell_type": "code",
   "execution_count": 117,
   "metadata": {},
   "outputs": [
    {
     "data": {
      "text/plain": [
       "0    270.475\n",
       "1    270.475\n",
       "2    269.686\n",
       "3    269.686\n",
       "4    269.686\n",
       "5    270.292\n",
       "6    270.292\n",
       "7    270.292\n",
       "8    274.601\n",
       "9    274.601\n",
       "Name: temp_min, dtype: float64"
      ]
     },
     "execution_count": 117,
     "metadata": {},
     "output_type": "execute_result"
    }
   ],
   "source": [
    "# перші 10 значень колонки х\n",
    "mydata[\"temp_min\"].head(10)"
   ]
  },
  {
   "cell_type": "code",
   "execution_count": 118,
   "metadata": {},
   "outputs": [
    {
     "data": {
      "text/plain": [
       "array([[270.475],\n",
       "       [270.475],\n",
       "       [269.686],\n",
       "       [269.686],\n",
       "       [269.686],\n",
       "       [270.292],\n",
       "       [270.292],\n",
       "       [270.292],\n",
       "       [274.601],\n",
       "       [274.601]])"
      ]
     },
     "execution_count": 118,
     "metadata": {},
     "output_type": "execute_result"
    }
   ],
   "source": [
    "# зріз 10 перших елементів переформатованого набору по х\n",
    "X[0:10]"
   ]
  },
  {
   "cell_type": "code",
   "execution_count": 119,
   "metadata": {},
   "outputs": [],
   "source": [
    "# ділимо набір даних на тренувальні дані та дані для перехресної перевірки\n",
    "from sklearn.model_selection import train_test_split\n",
    "X_train,X_cv, y_train, y_cv = train_test_split(X,Y,test_size=0.3, random_state=143)"
   ]
  },
  {
   "cell_type": "code",
   "execution_count": 120,
   "metadata": {},
   "outputs": [
    {
     "data": {
      "text/plain": [
       "LinearRegression(copy_X=True, fit_intercept=True, n_jobs=None, normalize=False)"
      ]
     },
     "execution_count": 120,
     "metadata": {},
     "output_type": "execute_result"
    }
   ],
   "source": [
    "# навчання моделі\n",
    "from sklearn.linear_model import LinearRegression\n",
    "lin_reg = LinearRegression()\n",
    "lin_reg.fit(X_train,y_train)"
   ]
  },
  {
   "cell_type": "code",
   "execution_count": 121,
   "metadata": {},
   "outputs": [
    {
     "name": "stdout",
     "output_type": "stream",
     "text": [
      "Predictions:  [[302.06807936]\n",
      " [300.12653574]\n",
      " [287.76278598]\n",
      " [291.38958946]\n",
      " [279.74032775]]\n",
      "Labels: [[302.15 ]\n",
      " [300.05 ]\n",
      " [285.414]\n",
      " [292.15 ]\n",
      " [279.15 ]]\n"
     ]
    }
   ],
   "source": [
    "# робимо зріз перших пяти значень тренувального набору, робимо пердбачення\n",
    "some_data = X_train[:5]\n",
    "some_labels = y_train[:5]\n",
    "print(\"Predictions: \" ,lin_reg.predict(some_data))\n",
    "print(\"Labels:\",some_labels)"
   ]
  },
  {
   "cell_type": "code",
   "execution_count": 122,
   "metadata": {},
   "outputs": [
    {
     "data": {
      "text/plain": [
       "2.9617221441559423"
      ]
     },
     "execution_count": 122,
     "metadata": {},
     "output_type": "execute_result"
    }
   ],
   "source": [
    "# обчислення середньоквадратичної помилки\n",
    "from sklearn.metrics import mean_squared_error\n",
    "predictions = lin_reg.predict(X_train)\n",
    "mse = mean_squared_error(y_train, predictions)\n",
    "rmse = np.sqrt(mse)\n",
    "rmse"
   ]
  },
  {
   "cell_type": "code",
   "execution_count": 123,
   "metadata": {},
   "outputs": [
    {
     "data": {
      "image/png": "[encoded data removed]",
      "text/plain": [
       "<Figure size 432x288 with 1 Axes>"
      ]
     },
     "metadata": {
      "needs_background": "light"
     },
     "output_type": "display_data"
    }
   ],
   "source": [
    "# графік тренувального дабору + передбачення\n",
    "plt.scatter(X_train, y_train,s=10)\n",
    "plt.plot(X_train, predictions, color='red')\n",
    "plt.show()"
   ]
  },
  {
   "cell_type": "code",
   "execution_count": 124,
   "metadata": {},
   "outputs": [
    {
     "data": {
      "text/plain": [
       "2.9367786606612007"
      ]
     },
     "execution_count": 124,
     "metadata": {},
     "output_type": "execute_result"
    }
   ],
   "source": [
    "# середньоквадратична помилка для даних перехресної перевірки\n",
    "cv_predictions = lin_reg.predict(X_cv)\n",
    "cv_mse = mean_squared_error(y_cv, cv_predictions)\n",
    "cv_rmse = np.sqrt(cv_mse)\n",
    "cv_rmse"
   ]
  },
  {
   "cell_type": "code",
   "execution_count": 125,
   "metadata": {},
   "outputs": [],
   "source": [
    "# імпорт і переформатування тестового наботу \n",
    "data_test = pd.read_csv(\"tst_data.csv\")\n",
    "X_test = mydata[\"temp_min\"].values.reshape(-1,1)\n",
    "y_test = mydata[\"temp_max\"].values.reshape(-1,1)"
   ]
  },
  {
   "cell_type": "code",
   "execution_count": 126,
   "metadata": {},
   "outputs": [
    {
     "data": {
      "text/plain": [
       "2.954261088039196"
      ]
     },
     "execution_count": 126,
     "metadata": {},
     "output_type": "execute_result"
    }
   ],
   "source": [
    "# середньоквадратична помилка для тестового набору\n",
    "final_predictions = lin_reg.predict(X_test)\n",
    "final_mse = mean_squared_error(y_test, final_predictions)\n",
    "final_rmse = np.sqrt(final_mse)\n",
    "final_rmse"
   ]
  },
  {
   "cell_type": "code",
   "execution_count": 127,
   "metadata": {},
   "outputs": [
    {
     "data": {
      "text/plain": [
       "0.8665655910124225"
      ]
     },
     "execution_count": 127,
     "metadata": {},
     "output_type": "execute_result"
    }
   ],
   "source": [
    "# обчислення функції оцінки регресії(коефіцієнт детермінації)\n",
    "from sklearn.metrics import r2_score\n",
    "score=r2_score(y_test, final_predictions)\n",
    "score"
   ]
  },
  {
   "cell_type": "code",
   "execution_count": 128,
   "metadata": {},
   "outputs": [
    {
     "data": {
      "image/png": "[encoded data removed]",
      "text/plain": [
       "<Figure size 767.52x432 with 1 Axes>"
      ]
     },
     "metadata": {
      "needs_background": "light"
     },
     "output_type": "display_data"
    }
   ],
   "source": [
    "# графік тренувального набору\n",
    "plt.figure(figsize=(10.66,6))\n",
    "plt.scatter(mydata[\"temp_min\"],mydata[\"temp_max\"],s=10)\n",
    "plt.savefig(\"raw_data.jpg\")"
   ]
  },
  {
   "cell_type": "code",
   "execution_count": 129,
   "metadata": {},
   "outputs": [
    {
     "data": {
      "image/png": "[encoded data removed]",
      "text/plain": [
       "<Figure size 767.52x432 with 1 Axes>"
      ]
     },
     "metadata": {
      "needs_background": "light"
     },
     "output_type": "display_data"
    }
   ],
   "source": [
    "# графік тренувального набору + передбачення\n",
    "plt.figure(figsize=(10.66,6))\n",
    "plt.scatter(mydata[\"temp_min\"],mydata[\"temp_max\"],s=10)\n",
    "plt.plot(X_train, predictions, color='red')\n",
    "plt.savefig(\"final_graph.jpg\")"
   ]
  }
 ],
 "metadata": {
  "kernelspec": {
   "display_name": "Python 3",
   "language": "python",
   "name": "python3"
  },
  "language_info": {
   "codemirror_mode": {
    "name": "ipython",
    "version": 3
   },
   "file_extension": ".py",
   "mimetype": "text/x-python",
   "name": "python",
   "nbconvert_exporter": "python",
   "pygments_lexer": "ipython3",
   "version": "3.7.3"
  }
 },
 "nbformat": 4,
 "nbformat_minor": 4
}
